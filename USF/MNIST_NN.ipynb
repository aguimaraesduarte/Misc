{
 "cells": [
  {
   "cell_type": "markdown",
   "metadata": {},
   "source": [
    "# Neural Networks for MNIST dataset"
   ]
  },
  {
   "cell_type": "markdown",
   "metadata": {},
   "source": [
    "## Loading data"
   ]
  },
  {
   "cell_type": "code",
   "execution_count": 1,
   "metadata": {
    "collapsed": false
   },
   "outputs": [
    {
     "name": "stderr",
     "output_type": "stream",
     "text": [
      "Using Theano backend.\n"
     ]
    }
   ],
   "source": [
    "import numpy as np\n",
    "from keras.models import Sequential\n",
    "from keras.layers import Dense\n",
    "from keras.layers import Dropout\n",
    "from keras.utils import np_utils\n",
    "from keras.datasets import mnist"
   ]
  },
  {
   "cell_type": "code",
   "execution_count": 2,
   "metadata": {
    "collapsed": true
   },
   "outputs": [],
   "source": [
    "seed = 7\n",
    "np.random.seed(seed)"
   ]
  },
  {
   "cell_type": "code",
   "execution_count": 3,
   "metadata": {
    "collapsed": false
   },
   "outputs": [],
   "source": [
    "(X_train, Y_train), (X_test, Y_test) = mnist.load_data()"
   ]
  },
  {
   "cell_type": "code",
   "execution_count": 4,
   "metadata": {
    "collapsed": false
   },
   "outputs": [
    {
     "data": {
      "text/plain": [
       "(60000, 28, 28)"
      ]
     },
     "execution_count": 4,
     "metadata": {},
     "output_type": "execute_result"
    }
   ],
   "source": [
    "X_train.shape"
   ]
  },
  {
   "cell_type": "code",
   "execution_count": 5,
   "metadata": {
    "collapsed": false
   },
   "outputs": [
    {
     "name": "stdout",
     "output_type": "stream",
     "text": [
      "[[  0   0   0   0   0   0   0   0   0   0   0   0   0   0   0   0   0   0\n",
      "    0   0   0   0   0   0   0   0   0   0]\n",
      " [  0   0   0   0   0   0   0   0   0   0   0   0   0   0   0   0   0   0\n",
      "    0   0   0   0   0   0   0   0   0   0]\n",
      " [  0   0   0   0   0   0   0   0   0   0   0   0   0   0   0   0   0   0\n",
      "    0   0   0   0   0   0   0   0   0   0]\n",
      " [  0   0   0   0   0   0   0   0   0   0   0   0   0   0   0   0   0   0\n",
      "    0   0   0   0   0   0   0   0   0   0]\n",
      " [  0   0   0   0   0   0   0   0   0   0   0   0   0   0   0   0   0   0\n",
      "    0   0   0   0   0   0   0   0   0   0]\n",
      " [  0   0   0   0   0   0   0   0   0   0   0   0   3  18  18  18 126 136\n",
      "  175  26 166 255 247 127   0   0   0   0]\n",
      " [  0   0   0   0   0   0   0   0  30  36  94 154 170 253 253 253 253 253\n",
      "  225 172 253 242 195  64   0   0   0   0]\n",
      " [  0   0   0   0   0   0   0  49 238 253 253 253 253 253 253 253 253 251\n",
      "   93  82  82  56  39   0   0   0   0   0]\n",
      " [  0   0   0   0   0   0   0  18 219 253 253 253 253 253 198 182 247 241\n",
      "    0   0   0   0   0   0   0   0   0   0]\n",
      " [  0   0   0   0   0   0   0   0  80 156 107 253 253 205  11   0  43 154\n",
      "    0   0   0   0   0   0   0   0   0   0]\n",
      " [  0   0   0   0   0   0   0   0   0  14   1 154 253  90   0   0   0   0\n",
      "    0   0   0   0   0   0   0   0   0   0]\n",
      " [  0   0   0   0   0   0   0   0   0   0   0 139 253 190   2   0   0   0\n",
      "    0   0   0   0   0   0   0   0   0   0]\n",
      " [  0   0   0   0   0   0   0   0   0   0   0  11 190 253  70   0   0   0\n",
      "    0   0   0   0   0   0   0   0   0   0]\n",
      " [  0   0   0   0   0   0   0   0   0   0   0   0  35 241 225 160 108   1\n",
      "    0   0   0   0   0   0   0   0   0   0]\n",
      " [  0   0   0   0   0   0   0   0   0   0   0   0   0  81 240 253 253 119\n",
      "   25   0   0   0   0   0   0   0   0   0]\n",
      " [  0   0   0   0   0   0   0   0   0   0   0   0   0   0  45 186 253 253\n",
      "  150  27   0   0   0   0   0   0   0   0]\n",
      " [  0   0   0   0   0   0   0   0   0   0   0   0   0   0   0  16  93 252\n",
      "  253 187   0   0   0   0   0   0   0   0]\n",
      " [  0   0   0   0   0   0   0   0   0   0   0   0   0   0   0   0   0 249\n",
      "  253 249  64   0   0   0   0   0   0   0]\n",
      " [  0   0   0   0   0   0   0   0   0   0   0   0   0   0  46 130 183 253\n",
      "  253 207   2   0   0   0   0   0   0   0]\n",
      " [  0   0   0   0   0   0   0   0   0   0   0   0  39 148 229 253 253 253\n",
      "  250 182   0   0   0   0   0   0   0   0]\n",
      " [  0   0   0   0   0   0   0   0   0   0  24 114 221 253 253 253 253 201\n",
      "   78   0   0   0   0   0   0   0   0   0]\n",
      " [  0   0   0   0   0   0   0   0  23  66 213 253 253 253 253 198  81   2\n",
      "    0   0   0   0   0   0   0   0   0   0]\n",
      " [  0   0   0   0   0   0  18 171 219 253 253 253 253 195  80   9   0   0\n",
      "    0   0   0   0   0   0   0   0   0   0]\n",
      " [  0   0   0   0  55 172 226 253 253 253 253 244 133  11   0   0   0   0\n",
      "    0   0   0   0   0   0   0   0   0   0]\n",
      " [  0   0   0   0 136 253 253 253 212 135 132  16   0   0   0   0   0   0\n",
      "    0   0   0   0   0   0   0   0   0   0]\n",
      " [  0   0   0   0   0   0   0   0   0   0   0   0   0   0   0   0   0   0\n",
      "    0   0   0   0   0   0   0   0   0   0]\n",
      " [  0   0   0   0   0   0   0   0   0   0   0   0   0   0   0   0   0   0\n",
      "    0   0   0   0   0   0   0   0   0   0]\n",
      " [  0   0   0   0   0   0   0   0   0   0   0   0   0   0   0   0   0   0\n",
      "    0   0   0   0   0   0   0   0   0   0]]\n"
     ]
    }
   ],
   "source": [
    "print(X_train[0])"
   ]
  },
  {
   "cell_type": "code",
   "execution_count": 6,
   "metadata": {
    "collapsed": true
   },
   "outputs": [],
   "source": [
    "%matplotlib inline"
   ]
  },
  {
   "cell_type": "code",
   "execution_count": 7,
   "metadata": {
    "collapsed": false
   },
   "outputs": [
    {
     "data": {
      "image/png": "[encoded data removed]",
      "text/plain": [
       "<matplotlib.figure.Figure at 0x7f01bc906610>"
      ]
     },
     "metadata": {},
     "output_type": "display_data"
    },
    {
     "name": "stdout",
     "output_type": "stream",
     "text": [
      "5\n"
     ]
    }
   ],
   "source": [
    "import pylab as plt\n",
    "plt.imshow(X_train[0], cmap='gray')\n",
    "plt.show()\n",
    "print(Y_train[0])"
   ]
  },
  {
   "cell_type": "code",
   "execution_count": 8,
   "metadata": {
    "collapsed": true
   },
   "outputs": [],
   "source": [
    "# flatten 28*28 images to a 784 vector for each image\n",
    "num_pixels = X_train.shape[1] * X_train.shape[2]\n",
    "X_train = X_train.reshape(X_train.shape[0], num_pixels).astype('float32')\n",
    "X_test = X_test.reshape(X_test.shape[0], num_pixels).astype('float32')"
   ]
  },
  {
   "cell_type": "code",
   "execution_count": 9,
   "metadata": {
    "collapsed": true
   },
   "outputs": [],
   "source": [
    "# normalize inputs from 0-255 to 0-1\n",
    "X_train = X_train / 255\n",
    "X_test = X_test / 255"
   ]
  },
  {
   "cell_type": "code",
   "execution_count": 10,
   "metadata": {
    "collapsed": false
   },
   "outputs": [],
   "source": [
    "# one hot encode outputs\n",
    "Y_train = np_utils.to_categorical(Y_train)\n",
    "Y_test = np_utils.to_categorical(Y_test)\n",
    "num_classes = Y_test.shape[1]"
   ]
  },
  {
   "cell_type": "code",
   "execution_count": 11,
   "metadata": {
    "collapsed": false
   },
   "outputs": [
    {
     "name": "stdout",
     "output_type": "stream",
     "text": [
      "[ 0.  0.  0.  0.  0.  1.  0.  0.  0.  0.]\n"
     ]
    }
   ],
   "source": [
    "print(Y_train[0])"
   ]
  },
  {
   "cell_type": "markdown",
   "metadata": {},
   "source": [
    "## Simple 2- layer NN"
   ]
  },
  {
   "cell_type": "code",
   "execution_count": 12,
   "metadata": {
    "collapsed": false
   },
   "outputs": [],
   "source": [
    "from keras.models import Sequential\n",
    "from keras.layers import Dense, Activation"
   ]
  },
  {
   "cell_type": "code",
   "execution_count": 13,
   "metadata": {
    "collapsed": false
   },
   "outputs": [],
   "source": [
    "# for the number of neurons in the hidden unit\n",
    "M = 300\n",
    "model1 = Sequential()\n",
    "model1.add(Dense(M, input_dim=num_pixels, init='normal', activation='relu'))\n",
    "model1.add(Dense(10, activation='softmax'))\n",
    "model1.compile(optimizer='adam',\n",
    "               loss='categorical_crossentropy',\n",
    "               metrics=['accuracy'])"
   ]
  },
  {
   "cell_type": "code",
   "execution_count": 15,
   "metadata": {
    "collapsed": false
   },
   "outputs": [
    {
     "name": "stdout",
     "output_type": "stream",
     "text": [
      "1.0\n",
      "9.99999974738e-05\n"
     ]
    }
   ],
   "source": [
    "# default learning rate\n",
    "print(model1.optimizer.lr.get_value())\n",
    "model1.optimizer.lr.set_value(0.0001)  # [1, 0.1, 0.01, 0.001, 0.0001, 0.00001] #recompile first!\n",
    "print(model1.optimizer.lr.get_value())"
   ]
  },
  {
   "cell_type": "code",
   "execution_count": 16,
   "metadata": {
    "collapsed": false
   },
   "outputs": [
    {
     "name": "stdout",
     "output_type": "stream",
     "text": [
      "Train on 60000 samples, validate on 10000 samples\n",
      "Epoch 1/1\n",
      "6s - loss: 0.9650 - acc: 0.7702 - val_loss: 0.4564 - val_acc: 0.8939\n",
      "Baseline Error: 10.61%\n"
     ]
    }
   ],
   "source": [
    "model1.fit(X_train, Y_train, validation_data=(X_test, Y_test), nb_epoch=1, batch_size=200, verbose=2)\n",
    "# Final evaluation of the model\n",
    "scores = model1.evaluate(X_test, Y_test, verbose=0)\n",
    "print(\"Baseline Error: %.2f%%\" % (100-scores[1]*100))"
   ]
  },
  {
   "cell_type": "code",
   "execution_count": 17,
   "metadata": {
    "collapsed": true
   },
   "outputs": [],
   "source": [
    "def get_model(lr=0.001, M=300):\n",
    "    model = Sequential()\n",
    "    model.add(Dense(M, input_dim=num_pixels, init='normal', activation='relu'))\n",
    "    model.add(Dense(10, activation='softmax'))\n",
    "    model.compile(optimizer='adam',\n",
    "               loss='categorical_crossentropy',\n",
    "               metrics=['accuracy'])\n",
    "    model.optimizer.lr.set_value(lr)\n",
    "    return model"
   ]
  },
  {
   "cell_type": "code",
   "execution_count": 46,
   "metadata": {
    "collapsed": false
   },
   "outputs": [
    {
     "name": "stdout",
     "output_type": "stream",
     "text": [
      "____________________________________________________________________________________________________\n",
      "Layer (type)                     Output Shape          Param #     Connected to                     \n",
      "====================================================================================================\n",
      "dense_31 (Dense)                 (None, 2000)          1570000     dense_input_16[0][0]             \n",
      "____________________________________________________________________________________________________\n",
      "dense_32 (Dense)                 (None, 10)            20010       dense_31[0][0]                   \n",
      "====================================================================================================\n",
      "Total params: 1590010\n",
      "____________________________________________________________________________________________________\n"
     ]
    }
   ],
   "source": [
    "model2 = get_model(lr=.01, M=2000) # [10, 50, 100, 300, 1000, 2000] #\n",
    "model2.summary()"
   ]
  },
  {
   "cell_type": "code",
   "execution_count": 47,
   "metadata": {
    "collapsed": false
   },
   "outputs": [
    {
     "name": "stdout",
     "output_type": "stream",
     "text": [
      "Train on 60000 samples, validate on 10000 samples\n",
      "Epoch 1/10\n",
      "37s - loss: 0.4591 - acc: 0.9167 - val_loss: 0.1272 - val_acc: 0.9621\n",
      "Epoch 2/10\n",
      "36s - loss: 0.0963 - acc: 0.9705 - val_loss: 0.0911 - val_acc: 0.9731\n",
      "Epoch 3/10\n",
      "50s - loss: 0.0771 - acc: 0.9758 - val_loss: 0.1057 - val_acc: 0.9697\n",
      "Epoch 4/10\n",
      "51s - loss: 0.0664 - acc: 0.9800 - val_loss: 0.1131 - val_acc: 0.9715\n",
      "Epoch 5/10\n",
      "51s - loss: 0.0593 - acc: 0.9828 - val_loss: 0.1142 - val_acc: 0.9713\n",
      "Epoch 6/10\n",
      "51s - loss: 0.0578 - acc: 0.9834 - val_loss: 0.1331 - val_acc: 0.9682\n",
      "Epoch 7/10\n",
      "52s - loss: 0.0513 - acc: 0.9856 - val_loss: 0.1422 - val_acc: 0.9719\n",
      "Epoch 8/10\n",
      "55s - loss: 0.0529 - acc: 0.9861 - val_loss: 0.1299 - val_acc: 0.9738\n",
      "Epoch 9/10\n",
      "58s - loss: 0.0479 - acc: 0.9873 - val_loss: 0.1465 - val_acc: 0.9726\n",
      "Epoch 10/10\n",
      "58s - loss: 0.0476 - acc: 0.9877 - val_loss: 0.1522 - val_acc: 0.9726\n",
      "Baseline Error: 2.74%\n"
     ]
    }
   ],
   "source": [
    "model2.fit(X_train, Y_train, validation_data=(X_test, Y_test), nb_epoch=10, batch_size=200, verbose=2)\n",
    "# Final evaluation of the model\n",
    "scores = model2.evaluate(X_test, Y_test, verbose=0)\n",
    "print(\"Baseline Error: %.2f%%\" % (100-scores[1]*100))"
   ]
  },
  {
   "cell_type": "markdown",
   "metadata": {},
   "source": [
    "## Models with L2 regularization"
   ]
  },
  {
   "cell_type": "code",
   "execution_count": 48,
   "metadata": {
    "collapsed": true
   },
   "outputs": [],
   "source": [
    "from keras.regularizers import l2"
   ]
  },
  {
   "cell_type": "code",
   "execution_count": 49,
   "metadata": {
    "collapsed": true
   },
   "outputs": [],
   "source": [
    "def get_reg_model(lr=0.001, M=300, w=0.1):\n",
    "    model = Sequential()\n",
    "    model.add(Dense(M, input_dim=num_pixels, init='normal', activation='relu', W_regularizer=l2(w)))\n",
    "    model.add(Dense(10, activation='softmax'))\n",
    "    model.compile(optimizer='adam',\n",
    "               loss='categorical_crossentropy',\n",
    "               metrics=['accuracy'])\n",
    "    model.optimizer.lr.set_value(lr)\n",
    "    return model"
   ]
  },
  {
   "cell_type": "code",
   "execution_count": 77,
   "metadata": {
    "collapsed": false
   },
   "outputs": [
    {
     "name": "stdout",
     "output_type": "stream",
     "text": [
      "____________________________________________________________________________________________________\n",
      "Layer (type)                     Output Shape          Param #     Connected to                     \n",
      "====================================================================================================\n",
      "dense_54 (Dense)                 (None, 300)           235500      dense_input_27[0][0]             \n",
      "____________________________________________________________________________________________________\n",
      "dense_55 (Dense)                 (None, 10)            3010        dense_54[0][0]                   \n",
      "====================================================================================================\n",
      "Total params: 238510\n",
      "____________________________________________________________________________________________________\n"
     ]
    }
   ],
   "source": [
    "model0 = get_reg_model(lr=.01, M=300, w=0)\n",
    "model0.summary()"
   ]
  },
  {
   "cell_type": "code",
   "execution_count": 78,
   "metadata": {
    "collapsed": false
   },
   "outputs": [
    {
     "name": "stdout",
     "output_type": "stream",
     "text": [
      "Train on 60000 samples, validate on 10000 samples\n",
      "Epoch 1/10\n",
      "6s - loss: 0.2118 - acc: 0.9351 - val_loss: 0.1296 - val_acc: 0.9583\n",
      "Epoch 2/10\n",
      "6s - loss: 0.0949 - acc: 0.9706 - val_loss: 0.1004 - val_acc: 0.9706\n",
      "Epoch 3/10\n",
      "6s - loss: 0.0690 - acc: 0.9785 - val_loss: 0.1068 - val_acc: 0.9716\n",
      "Epoch 4/10\n",
      "7s - loss: 0.0656 - acc: 0.9803 - val_loss: 0.0999 - val_acc: 0.9732\n",
      "Epoch 5/10\n",
      "7s - loss: 0.0501 - acc: 0.9847 - val_loss: 0.0948 - val_acc: 0.9756\n",
      "Epoch 6/10\n",
      "6s - loss: 0.0514 - acc: 0.9838 - val_loss: 0.1550 - val_acc: 0.9687\n",
      "Epoch 7/10\n",
      "7s - loss: 0.0548 - acc: 0.9837 - val_loss: 0.1469 - val_acc: 0.9693\n",
      "Epoch 8/10\n",
      "7s - loss: 0.0506 - acc: 0.9861 - val_loss: 0.1429 - val_acc: 0.9747\n",
      "Epoch 9/10\n",
      "7s - loss: 0.0397 - acc: 0.9883 - val_loss: 0.1271 - val_acc: 0.9746\n",
      "Epoch 10/10\n",
      "7s - loss: 0.0392 - acc: 0.9888 - val_loss: 0.1282 - val_acc: 0.9766\n",
      "Baseline Error: 2.34%\n"
     ]
    }
   ],
   "source": [
    "model0.fit(X_train, Y_train, validation_data=(X_test, Y_test), nb_epoch=10, batch_size=200, verbose=2)\n",
    "scores = model0.evaluate(X_test, Y_test, verbose=0)\n",
    "print(\"Baseline Error: %.2f%%\" % (100-scores[1]*100))"
   ]
  },
  {
   "cell_type": "code",
   "execution_count": 79,
   "metadata": {
    "collapsed": false
   },
   "outputs": [
    {
     "name": "stdout",
     "output_type": "stream",
     "text": [
      "Train on 60000 samples, validate on 10000 samples\n",
      "Epoch 1/10\n",
      "7s - loss: 0.0140 - acc: 0.9955 - val_loss: 0.1142 - val_acc: 0.9798\n",
      "Epoch 2/10\n",
      "8s - loss: 0.0053 - acc: 0.9984 - val_loss: 0.1118 - val_acc: 0.9800\n",
      "Epoch 3/10\n",
      "7s - loss: 0.0033 - acc: 0.9992 - val_loss: 0.1106 - val_acc: 0.9803\n",
      "Epoch 4/10\n",
      "7s - loss: 0.0024 - acc: 0.9996 - val_loss: 0.1114 - val_acc: 0.9799\n",
      "Epoch 5/10\n",
      "7s - loss: 0.0018 - acc: 0.9997 - val_loss: 0.1114 - val_acc: 0.9804\n",
      "Epoch 6/10\n",
      "7s - loss: 0.0015 - acc: 0.9998 - val_loss: 0.1125 - val_acc: 0.9803\n",
      "Epoch 7/10\n",
      "7s - loss: 0.0012 - acc: 0.9999 - val_loss: 0.1123 - val_acc: 0.9806\n",
      "Epoch 8/10\n",
      "7s - loss: 0.0010 - acc: 0.9999 - val_loss: 0.1134 - val_acc: 0.9807\n",
      "Epoch 9/10\n",
      "7s - loss: 9.1122e-04 - acc: 0.9999 - val_loss: 0.1131 - val_acc: 0.9808\n",
      "Epoch 10/10\n",
      "7s - loss: 8.0099e-04 - acc: 1.0000 - val_loss: 0.1138 - val_acc: 0.9806\n",
      "Baseline Error: 1.94%\n"
     ]
    }
   ],
   "source": [
    "model0.optimizer.lr.set_value(0.001)\n",
    "model0.fit(X_train, Y_train, validation_data=(X_test, Y_test), nb_epoch=10, batch_size=200, verbose=2)\n",
    "scores = model0.evaluate(X_test, Y_test, verbose=0)\n",
    "print(\"Baseline Error: %.2f%%\" % (100-scores[1]*100))"
   ]
  },
  {
   "cell_type": "code",
   "execution_count": 80,
   "metadata": {
    "collapsed": false
   },
   "outputs": [
    {
     "name": "stdout",
     "output_type": "stream",
     "text": [
      "____________________________________________________________________________________________________\n",
      "Layer (type)                     Output Shape          Param #     Connected to                     \n",
      "====================================================================================================\n",
      "dense_56 (Dense)                 (None, 300)           235500      dense_input_28[0][0]             \n",
      "____________________________________________________________________________________________________\n",
      "dense_57 (Dense)                 (None, 10)            3010        dense_56[0][0]                   \n",
      "====================================================================================================\n",
      "Total params: 238510\n",
      "____________________________________________________________________________________________________\n"
     ]
    }
   ],
   "source": [
    "model0 = get_reg_model(lr=.01, M=300, w=0.002)\n",
    "model0.summary()"
   ]
  },
  {
   "cell_type": "code",
   "execution_count": 81,
   "metadata": {
    "collapsed": false
   },
   "outputs": [
    {
     "name": "stdout",
     "output_type": "stream",
     "text": [
      "Train on 60000 samples, validate on 10000 samples\n",
      "Epoch 1/30\n",
      "4s - loss: 0.5470 - acc: 0.9119 - val_loss: 0.2027 - val_acc: 0.9386\n",
      "Epoch 2/30\n",
      "4s - loss: 0.4045 - acc: 0.9355 - val_loss: 0.1701 - val_acc: 0.9489\n",
      "Epoch 3/30\n",
      "5s - loss: 0.3698 - acc: 0.9390 - val_loss: 0.1800 - val_acc: 0.9458\n",
      "Epoch 4/30\n",
      "5s - loss: 0.3562 - acc: 0.9416 - val_loss: 0.2346 - val_acc: 0.9275\n",
      "Epoch 5/30\n",
      "6s - loss: 0.3324 - acc: 0.9449 - val_loss: 0.1978 - val_acc: 0.9391\n",
      "Epoch 6/30\n",
      "23s - loss: 0.3350 - acc: 0.9431 - val_loss: 0.1577 - val_acc: 0.9528\n",
      "Epoch 7/30\n",
      "41s - loss: 0.3138 - acc: 0.9463 - val_loss: 0.1739 - val_acc: 0.9461\n",
      "Epoch 8/30\n",
      "51s - loss: 0.3173 - acc: 0.9461 - val_loss: 0.1710 - val_acc: 0.9479\n",
      "Epoch 9/30\n",
      "55s - loss: 0.3150 - acc: 0.9457 - val_loss: 0.1845 - val_acc: 0.9421\n",
      "Epoch 10/30\n",
      "58s - loss: 0.3174 - acc: 0.9444 - val_loss: 0.1567 - val_acc: 0.9529\n",
      "Epoch 11/30\n",
      "60s - loss: 0.3033 - acc: 0.9465 - val_loss: 0.1498 - val_acc: 0.9517\n",
      "Epoch 12/30\n",
      "62s - loss: 0.3121 - acc: 0.9445 - val_loss: 0.1980 - val_acc: 0.9381\n",
      "Epoch 13/30\n",
      "62s - loss: 0.3090 - acc: 0.9474 - val_loss: 0.1657 - val_acc: 0.9495\n",
      "Epoch 14/30\n",
      "63s - loss: 0.3033 - acc: 0.9462 - val_loss: 0.1882 - val_acc: 0.9453\n",
      "Epoch 15/30\n",
      "62s - loss: 0.3042 - acc: 0.9469 - val_loss: 0.1429 - val_acc: 0.9567\n",
      "Epoch 16/30\n",
      "62s - loss: 0.3103 - acc: 0.9446 - val_loss: 0.1823 - val_acc: 0.9431\n",
      "Epoch 17/30\n",
      "63s - loss: 0.2982 - acc: 0.9486 - val_loss: 0.1621 - val_acc: 0.9494\n",
      "Epoch 18/30\n",
      "63s - loss: 0.2973 - acc: 0.9476 - val_loss: 0.1747 - val_acc: 0.9458\n",
      "Epoch 19/30\n",
      "62s - loss: 0.3046 - acc: 0.9458 - val_loss: 0.1760 - val_acc: 0.9441\n",
      "Epoch 20/30\n",
      "62s - loss: 0.3022 - acc: 0.9466 - val_loss: 0.1787 - val_acc: 0.9437\n",
      "Epoch 21/30\n",
      "62s - loss: 0.3067 - acc: 0.9463 - val_loss: 0.1601 - val_acc: 0.9546\n",
      "Epoch 22/30\n",
      "63s - loss: 0.2998 - acc: 0.9470 - val_loss: 0.1443 - val_acc: 0.9561\n",
      "Epoch 23/30\n",
      "63s - loss: 0.2927 - acc: 0.9477 - val_loss: 0.1563 - val_acc: 0.9497\n",
      "Epoch 24/30\n",
      "62s - loss: 0.3034 - acc: 0.9454 - val_loss: 0.1802 - val_acc: 0.9427\n",
      "Epoch 25/30\n",
      "61s - loss: 0.2960 - acc: 0.9482 - val_loss: 0.1546 - val_acc: 0.9518\n",
      "Epoch 26/30\n",
      "61s - loss: 0.2892 - acc: 0.9482 - val_loss: 0.1813 - val_acc: 0.9453\n",
      "Epoch 27/30\n",
      "62s - loss: 0.2983 - acc: 0.9468 - val_loss: 0.1372 - val_acc: 0.9601\n",
      "Epoch 28/30\n",
      "61s - loss: 0.2956 - acc: 0.9484 - val_loss: 0.1591 - val_acc: 0.9511\n",
      "Epoch 29/30\n",
      "61s - loss: 0.2985 - acc: 0.9480 - val_loss: 0.1664 - val_acc: 0.9489\n",
      "Epoch 30/30\n",
      "61s - loss: 0.2979 - acc: 0.9477 - val_loss: 0.1739 - val_acc: 0.9433\n",
      "Baseline Error: 5.67%\n"
     ]
    }
   ],
   "source": [
    "model0.fit(X_train, Y_train, validation_data=(X_test, Y_test), nb_epoch=30, batch_size=200, verbose=2)\n",
    "scores = model0.evaluate(X_test, Y_test, verbose=0)\n",
    "print(\"Baseline Error: %.2f%%\" % (100-scores[1]*100))"
   ]
  },
  {
   "cell_type": "markdown",
   "metadata": {},
   "source": [
    "## Models with Dropout"
   ]
  },
  {
   "cell_type": "code",
   "execution_count": 55,
   "metadata": {
    "collapsed": false
   },
   "outputs": [],
   "source": [
    "def get_dropout_model(lr=0.001, M=300, w=0.2):\n",
    "    model = Sequential()\n",
    "    model.add(Dense(M, input_dim=num_pixels, init='normal', activation='relu'))\n",
    "    model.add(Dropout(w))\n",
    "    model.add(Dense(10, activation='softmax'))\n",
    "    model.compile(optimizer='adam',\n",
    "               loss='categorical_crossentropy',\n",
    "               metrics=['accuracy'])\n",
    "    model.optimizer.lr.set_value(lr)\n",
    "    return model"
   ]
  },
  {
   "cell_type": "code",
   "execution_count": 106,
   "metadata": {
    "collapsed": false
   },
   "outputs": [
    {
     "name": "stdout",
     "output_type": "stream",
     "text": [
      "____________________________________________________________________________________________________\n",
      "Layer (type)                     Output Shape          Param #     Connected to                     \n",
      "====================================================================================================\n",
      "dense_82 (Dense)                 (None, 300)           235500      dense_input_41[0][0]             \n",
      "____________________________________________________________________________________________________\n",
      "dropout_22 (Dropout)             (None, 300)           0           dense_82[0][0]                   \n",
      "____________________________________________________________________________________________________\n",
      "dense_83 (Dense)                 (None, 10)            3010        dropout_22[0][0]                 \n",
      "====================================================================================================\n",
      "Total params: 238510\n",
      "____________________________________________________________________________________________________\n"
     ]
    }
   ],
   "source": [
    "model = get_dropout_model(lr=.001, M=300, w=1) # w = [0, 0.1, 0.25, 0.5, 0.75, 0.9, 1]\n",
    "model.summary()"
   ]
  },
  {
   "cell_type": "code",
   "execution_count": 107,
   "metadata": {
    "collapsed": false
   },
   "outputs": [
    {
     "name": "stdout",
     "output_type": "stream",
     "text": [
      "Train on 60000 samples, validate on 10000 samples\n",
      "Epoch 1/30\n",
      "6s - loss: 0.3500 - acc: 0.9031 - val_loss: 0.1803 - val_acc: 0.9469\n",
      "Epoch 2/30\n",
      "6s - loss: 0.1464 - acc: 0.9581 - val_loss: 0.1205 - val_acc: 0.9633\n",
      "Epoch 3/30\n",
      "6s - loss: 0.0996 - acc: 0.9717 - val_loss: 0.0948 - val_acc: 0.9715\n",
      "Epoch 4/30\n",
      "6s - loss: 0.0743 - acc: 0.9786 - val_loss: 0.0905 - val_acc: 0.9721\n",
      "Epoch 5/30\n",
      "7s - loss: 0.0572 - acc: 0.9838 - val_loss: 0.0803 - val_acc: 0.9752\n",
      "Epoch 6/30\n",
      "6s - loss: 0.0466 - acc: 0.9871 - val_loss: 0.0762 - val_acc: 0.9760\n",
      "Epoch 7/30\n",
      "6s - loss: 0.0375 - acc: 0.9893 - val_loss: 0.0681 - val_acc: 0.9778\n",
      "Epoch 8/30\n",
      "6s - loss: 0.0302 - acc: 0.9918 - val_loss: 0.0692 - val_acc: 0.9788\n",
      "Epoch 9/30\n",
      "6s - loss: 0.0240 - acc: 0.9941 - val_loss: 0.0642 - val_acc: 0.9795\n",
      "Epoch 10/30\n",
      "5s - loss: 0.0192 - acc: 0.9957 - val_loss: 0.0616 - val_acc: 0.9805\n",
      "Epoch 11/30\n",
      "6s - loss: 0.0155 - acc: 0.9971 - val_loss: 0.0674 - val_acc: 0.9786\n",
      "Epoch 12/30\n",
      "5s - loss: 0.0127 - acc: 0.9976 - val_loss: 0.0664 - val_acc: 0.9799\n",
      "Epoch 13/30\n",
      "6s - loss: 0.0100 - acc: 0.9983 - val_loss: 0.0641 - val_acc: 0.9807\n",
      "Epoch 14/30\n",
      "7s - loss: 0.0083 - acc: 0.9988 - val_loss: 0.0612 - val_acc: 0.9816\n",
      "Epoch 15/30\n",
      "6s - loss: 0.0066 - acc: 0.9992 - val_loss: 0.0696 - val_acc: 0.9796\n",
      "Epoch 16/30\n",
      "6s - loss: 0.0059 - acc: 0.9991 - val_loss: 0.0675 - val_acc: 0.9807\n",
      "Epoch 17/30\n",
      "6s - loss: 0.0050 - acc: 0.9995 - val_loss: 0.0722 - val_acc: 0.9802\n",
      "Epoch 18/30\n",
      "6s - loss: 0.0030 - acc: 0.9999 - val_loss: 0.0661 - val_acc: 0.9806\n",
      "Epoch 19/30\n",
      "7s - loss: 0.0027 - acc: 0.9999 - val_loss: 0.0670 - val_acc: 0.9814\n",
      "Epoch 20/30\n",
      "7s - loss: 0.0022 - acc: 0.9998 - val_loss: 0.0681 - val_acc: 0.9801\n",
      "Epoch 21/30\n",
      "7s - loss: 0.0018 - acc: 1.0000 - val_loss: 0.0672 - val_acc: 0.9813\n",
      "Epoch 22/30\n",
      "7s - loss: 0.0013 - acc: 1.0000 - val_loss: 0.0705 - val_acc: 0.9808\n",
      "Epoch 23/30\n",
      "7s - loss: 0.0011 - acc: 1.0000 - val_loss: 0.0702 - val_acc: 0.9807\n",
      "Epoch 24/30\n",
      "7s - loss: 8.7924e-04 - acc: 1.0000 - val_loss: 0.0737 - val_acc: 0.9814\n",
      "Epoch 25/30\n",
      "6s - loss: 7.4186e-04 - acc: 1.0000 - val_loss: 0.0711 - val_acc: 0.9812\n",
      "Epoch 26/30\n",
      "6s - loss: 0.0150 - acc: 0.9953 - val_loss: 0.0881 - val_acc: 0.9795\n",
      "Epoch 27/30\n",
      "6s - loss: 0.0102 - acc: 0.9968 - val_loss: 0.0806 - val_acc: 0.9813\n",
      "Epoch 28/30\n",
      "6s - loss: 0.0019 - acc: 0.9998 - val_loss: 0.0743 - val_acc: 0.9820\n",
      "Epoch 29/30\n",
      "7s - loss: 6.6964e-04 - acc: 1.0000 - val_loss: 0.0767 - val_acc: 0.9816\n",
      "Epoch 30/30\n",
      "7s - loss: 4.8014e-04 - acc: 1.0000 - val_loss: 0.0762 - val_acc: 0.9825\n",
      "Baseline Error: 1.75%\n"
     ]
    }
   ],
   "source": [
    "model.fit(X_train, Y_train, validation_data=(X_test, Y_test), nb_epoch=30, batch_size=200, verbose=2)\n",
    "scores = model.evaluate(X_test, Y_test, verbose=0)\n",
    "print(\"Baseline Error: %.2f%%\" % (100-scores[1]*100))"
   ]
  },
  {
   "cell_type": "markdown",
   "metadata": {
    "collapsed": true
   },
   "source": [
    "# 3-layer NN"
   ]
  },
  {
   "cell_type": "code",
   "execution_count": 108,
   "metadata": {
    "collapsed": true
   },
   "outputs": [],
   "source": [
    "def get_3nn_model(lr=0.001, M1=300, w1=0.2, M2=240, w2=0.2, reg=0.002):\n",
    "    model = Sequential()\n",
    "    model.add(Dense(M1, input_dim=num_pixels, init='normal', activation='relu'))\n",
    "    model.add(Dropout(w1))\n",
    "    model.add(Dense(M2, input_dim=num_pixels, activation='relu', W_regularizer=l2(reg)))\n",
    "    model.add(Dropout(w2))\n",
    "    model.add(Dense(10, activation='softmax'))\n",
    "    model.compile(optimizer='adam',\n",
    "               loss='categorical_crossentropy',\n",
    "               metrics=['accuracy'])\n",
    "    model.optimizer.lr.set_value(lr)\n",
    "    return model"
   ]
  },
  {
   "cell_type": "code",
   "execution_count": 109,
   "metadata": {
    "collapsed": false
   },
   "outputs": [
    {
     "name": "stdout",
     "output_type": "stream",
     "text": [
      "____________________________________________________________________________________________________\n",
      "Layer (type)                     Output Shape          Param #     Connected to                     \n",
      "====================================================================================================\n",
      "dense_84 (Dense)                 (None, 500)           392500      dense_input_42[0][0]             \n",
      "____________________________________________________________________________________________________\n",
      "dropout_23 (Dropout)             (None, 500)           0           dense_84[0][0]                   \n",
      "____________________________________________________________________________________________________\n",
      "dense_85 (Dense)                 (None, 500)           250500      dropout_23[0][0]                 \n",
      "____________________________________________________________________________________________________\n",
      "dropout_24 (Dropout)             (None, 500)           0           dense_85[0][0]                   \n",
      "____________________________________________________________________________________________________\n",
      "dense_86 (Dense)                 (None, 10)            5010        dropout_24[0][0]                 \n",
      "====================================================================================================\n",
      "Total params: 648010\n",
      "____________________________________________________________________________________________________\n"
     ]
    }
   ],
   "source": [
    "model = get_3nn_model(lr=.001, M1=500, w1=0.4, M2=500, w2=0.4, reg=0.002)\n",
    "model.summary()"
   ]
  },
  {
   "cell_type": "code",
   "execution_count": 110,
   "metadata": {
    "collapsed": false
   },
   "outputs": [
    {
     "name": "stdout",
     "output_type": "stream",
     "text": [
      "Train on 60000 samples, validate on 10000 samples\n",
      "Epoch 1/10\n",
      "20s - loss: 0.7975 - acc: 0.8933 - val_loss: 0.1392 - val_acc: 0.9582\n",
      "Epoch 2/10\n",
      "18s - loss: 0.2771 - acc: 0.9518 - val_loss: 0.1064 - val_acc: 0.9658\n",
      "Epoch 3/10\n",
      "19s - loss: 0.1991 - acc: 0.9606 - val_loss: 0.0927 - val_acc: 0.9718\n",
      "Epoch 4/10\n",
      "19s - loss: 0.1704 - acc: 0.9674 - val_loss: 0.0898 - val_acc: 0.9724\n",
      "Epoch 5/10\n",
      "20s - loss: 0.1603 - acc: 0.9700 - val_loss: 0.0762 - val_acc: 0.9770\n",
      "Epoch 6/10\n",
      "21s - loss: 0.1484 - acc: 0.9726 - val_loss: 0.0814 - val_acc: 0.9741\n",
      "Epoch 7/10\n",
      "22s - loss: 0.1409 - acc: 0.9753 - val_loss: 0.0678 - val_acc: 0.9793\n",
      "Epoch 8/10\n",
      "23s - loss: 0.1320 - acc: 0.9777 - val_loss: 0.0708 - val_acc: 0.9791\n",
      "Epoch 9/10\n",
      "23s - loss: 0.1288 - acc: 0.9772 - val_loss: 0.0701 - val_acc: 0.9785\n",
      "Epoch 10/10\n",
      "24s - loss: 0.1217 - acc: 0.9793 - val_loss: 0.0701 - val_acc: 0.9784\n",
      "Baseline Error: 2.16%\n"
     ]
    }
   ],
   "source": [
    "model.fit(X_train, Y_train, validation_data=(X_test, Y_test), nb_epoch=10, batch_size=200, verbose=2)\n",
    "scores = model.evaluate(X_test, Y_test, verbose=0)\n",
    "print(\"Baseline Error: %.2f%%\" % (100-scores[1]*100))"
   ]
  },
  {
   "cell_type": "code",
   "execution_count": 111,
   "metadata": {
    "collapsed": true
   },
   "outputs": [],
   "source": [
    "model.optimizer.lr.set_value(0.0001)"
   ]
  },
  {
   "cell_type": "code",
   "execution_count": 112,
   "metadata": {
    "collapsed": false
   },
   "outputs": [
    {
     "name": "stdout",
     "output_type": "stream",
     "text": [
      "Train on 60000 samples, validate on 10000 samples\n",
      "Epoch 1/10\n",
      "24s - loss: 0.0952 - acc: 0.9870 - val_loss: 0.0553 - val_acc: 0.9830\n",
      "Epoch 2/10\n",
      "23s - loss: 0.0793 - acc: 0.9892 - val_loss: 0.0532 - val_acc: 0.9833\n",
      "Epoch 3/10\n",
      "23s - loss: 0.0719 - acc: 0.9895 - val_loss: 0.0525 - val_acc: 0.9834\n",
      "Epoch 4/10\n",
      "24s - loss: 0.0654 - acc: 0.9898 - val_loss: 0.0529 - val_acc: 0.9836\n",
      "Epoch 5/10\n",
      "23s - loss: 0.0612 - acc: 0.9902 - val_loss: 0.0518 - val_acc: 0.9841\n",
      "Epoch 6/10\n",
      "27s - loss: 0.0591 - acc: 0.9898 - val_loss: 0.0521 - val_acc: 0.9839\n",
      "Epoch 7/10\n",
      "28s - loss: 0.0565 - acc: 0.9903 - val_loss: 0.0526 - val_acc: 0.9835\n",
      "Epoch 8/10\n",
      "27s - loss: 0.0546 - acc: 0.9905 - val_loss: 0.0519 - val_acc: 0.9841\n",
      "Epoch 9/10\n",
      "28s - loss: 0.0537 - acc: 0.9904 - val_loss: 0.0534 - val_acc: 0.9841\n",
      "Epoch 10/10\n",
      "28s - loss: 0.0538 - acc: 0.9905 - val_loss: 0.0524 - val_acc: 0.9831\n",
      "Baseline Error: 1.69%\n"
     ]
    }
   ],
   "source": [
    "model.fit(X_train, Y_train, validation_data=(X_test, Y_test), nb_epoch=10, batch_size=200, verbose=2)\n",
    "scores = model.evaluate(X_test, Y_test, verbose=0)\n",
    "print(\"Baseline Error: %.2f%%\" % (100-scores[1]*100))"
   ]
  },
  {
   "cell_type": "code",
   "execution_count": null,
   "metadata": {
    "collapsed": true
   },
   "outputs": [],
   "source": []
  }
 ],
 "metadata": {
  "kernelspec": {
   "display_name": "Python 2",
   "language": "python",
   "name": "python2"
  },
  "language_info": {
   "codemirror_mode": {
    "name": "ipython",
    "version": 2
   },
   "file_extension": ".py",
   "mimetype": "text/x-python",
   "name": "python",
   "nbconvert_exporter": "python",
   "pygments_lexer": "ipython2",
   "version": "2.7.12"
  },
  "latex_envs": {
   "bibliofile": "biblio.bib",
   "cite_by": "apalike",
   "current_citInitial": 1,
   "eqLabelWithNumbers": true,
   "eqNumInitial": 0
  },
  "toc": {
   "nav_menu": {
    "height": "102px",
    "width": "252px"
   },
   "navigate_menu": true,
   "number_sections": true,
   "sideBar": true,
   "threshold": 4,
   "toc_cell": false,
   "toc_section_display": "block",
   "toc_window_display": false
  }
 },
 "nbformat": 4,
 "nbformat_minor": 0
}
